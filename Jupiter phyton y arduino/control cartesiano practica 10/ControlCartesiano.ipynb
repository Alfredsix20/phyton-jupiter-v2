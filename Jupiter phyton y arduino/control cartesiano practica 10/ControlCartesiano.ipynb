{
 "cells": [
  {
   "cell_type": "markdown",
   "id": "40dacb44",
   "metadata": {},
   "source": [
    "<h2>Taller 10 - Pick and place usando control cartesiano</h2>\n",
    "<br>Autor: Claudio Morales D.\n",
    "<br>Centro de Automatización y Robótica Inacap\n",
    "<br>Santiago, Chile, otoño 2023\n"
   ]
  },
  {
   "cell_type": "markdown",
   "id": "7429bec0",
   "metadata": {},
   "source": [
    "Desde CoppeliaSim, abrir la escena 'scara_pick_n_place.ttt'\n"
   ]
  },
  {
   "cell_type": "markdown",
   "id": "c8f2767d",
   "metadata": {},
   "source": [
    "<h3>1. Nos conectamos y enviamos al robot a una posición inicial deseada</h3>"
   ]
  },
  {
   "cell_type": "code",
   "execution_count": 10,
   "id": "b542af6f",
   "metadata": {},
   "outputs": [],
   "source": [
    "# Cargamos las librerías necesarias\n",
    "import zmqRemoteApi\n",
    "import time\n",
    "from cartesian import delta_q\n"
   ]
  },
  {
   "cell_type": "code",
   "execution_count": 11,
   "id": "52ab2294",
   "metadata": {},
   "outputs": [],
   "source": [
    "# creamos un cliente de conexión a CoppeliaSim y obtenemos acceso a sim\n",
    "client = zmqRemoteApi.RemoteAPIClient()\n",
    "sim = client.getObject('sim')"
   ]
  },
  {
   "cell_type": "code",
   "execution_count": 12,
   "id": "8eaf94ae",
   "metadata": {},
   "outputs": [
    {
     "name": "stdout",
     "output_type": "stream",
     "text": [
      "19 22 26 31\n"
     ]
    },
    {
     "data": {
      "text/plain": [
       "1"
      ]
     },
     "execution_count": 12,
     "metadata": {},
     "output_type": "execute_result"
    }
   ],
   "source": [
    "# Obtenemos los manejadores para las articulaciones y el actuador final\n",
    "j1 = sim.getObject('/base/joint1')\n",
    "j2 = sim.getObject('/base/joint2')\n",
    "j3 = sim.getObject('/base/joint3')\n",
    "suctionPad = sim.getObject('/base/suctionPad')\n",
    "\n",
    "print(j1, j2, j3, suctionPad)\n",
    "\n",
    "# Enviamos al robot la posición deseada\n",
    "q1_val = 0 * 3.1416/180\n",
    "q2_val = 0.2\n",
    "q3_val = 0 * 3.1416/180\n",
    "\n",
    "sim.setJointTargetPosition(j1, q1_val)\n",
    "sim.setJointTargetPosition(j2, q2_val)\n",
    "sim.setJointTargetPosition(j3, q3_val)"
   ]
  },
  {
   "cell_type": "markdown",
   "id": "439f9dcf",
   "metadata": {},
   "source": [
    "<h3>2. Verificamos que el suctionPad funciona bien</h3>"
   ]
  },
  {
   "cell_type": "code",
   "execution_count": 26,
   "id": "2cccd34c",
   "metadata": {},
   "outputs": [],
   "source": [
    "def setEffector(val):\n",
    "# acciona el efector final (suctionPad)\n",
    "# val es Int con valor 0 ó 1 para desactivar o activar el actuador final.\n",
    "    objectHandle = sim.getObject('/base/suctionPad')\n",
    "    scriptHandle = sim.getScript(sim.scripttype_childscript,objectHandle)\n",
    "    res = sim.callScriptFunction('setEffector',scriptHandle,val)\n",
    "    return res"
   ]
  },
  {
   "cell_type": "code",
   "execution_count": 27,
   "id": "ed3e80c2",
   "metadata": {},
   "outputs": [
    {
     "data": {
      "text/plain": [
       "'suctionPad OFF'"
      ]
     },
     "execution_count": 27,
     "metadata": {},
     "output_type": "execute_result"
    }
   ],
   "source": [
    "# verificamos si el Pad se activa y desactiva\n",
    "setEffector(0)"
   ]
  },
  {
   "cell_type": "code",
   "execution_count": 28,
   "id": "92934544",
   "metadata": {},
   "outputs": [
    {
     "data": {
      "text/plain": [
       "1"
      ]
     },
     "execution_count": 28,
     "metadata": {},
     "output_type": "execute_result"
    }
   ],
   "source": [
    "# 1. Nos posicionamos sobre la caja\n",
    "j1 = sim.getObject('/base/joint1')\n",
    "j2 = sim.getObject('/base/joint2')\n",
    "j3 = sim.getObject('/base/joint3')\n",
    "suctionPad = sim.getObject('/base/suctionPad')\n",
    "q1_val = 45 * 3.1416/180\n",
    "q2_val = 0.2\n",
    "q3_val = 45 * 3.1416/180\n",
    "\n",
    "sim.setJointTargetPosition(j1, q1_val)\n",
    "sim.setJointTargetPosition(j2, q2_val)\n",
    "sim.setJointTargetPosition(j3, q3_val)"
   ]
  },
  {
   "cell_type": "code",
   "execution_count": 29,
   "id": "08abc040",
   "metadata": {},
   "outputs": [
    {
     "data": {
      "text/plain": [
       "1"
      ]
     },
     "execution_count": 29,
     "metadata": {},
     "output_type": "execute_result"
    }
   ],
   "source": [
    "# 2, Bajamos a la altura de la caja\n",
    "q2_val = 0.022\n",
    "sim.setJointTargetPosition(j2, q2_val)"
   ]
  },
  {
   "cell_type": "code",
   "execution_count": 30,
   "id": "a17f91e5",
   "metadata": {},
   "outputs": [
    {
     "data": {
      "text/plain": [
       "'suctionPad ON'"
      ]
     },
     "execution_count": 30,
     "metadata": {},
     "output_type": "execute_result"
    }
   ],
   "source": [
    "#activamos el actuador\n",
    "setEffector(1)"
   ]
  },
  {
   "cell_type": "code",
   "execution_count": 31,
   "id": "b9828f96",
   "metadata": {},
   "outputs": [
    {
     "data": {
      "text/plain": [
       "1"
      ]
     },
     "execution_count": 31,
     "metadata": {},
     "output_type": "execute_result"
    }
   ],
   "source": [
    "# y subimos\n",
    "q2_val = 0.2\n",
    "sim.setJointTargetPosition(j2, q2_val)"
   ]
  },
  {
   "cell_type": "code",
   "execution_count": 32,
   "id": "c1820d43",
   "metadata": {},
   "outputs": [
    {
     "data": {
      "text/plain": [
       "'suctionPad OFF'"
      ]
     },
     "execution_count": 32,
     "metadata": {},
     "output_type": "execute_result"
    }
   ],
   "source": [
    "#desactivamos el actuador\n",
    "setEffector(0)"
   ]
  },
  {
   "cell_type": "code",
   "execution_count": 33,
   "id": "c188846a",
   "metadata": {},
   "outputs": [
    {
     "data": {
      "text/plain": [
       "1"
      ]
     },
     "execution_count": 33,
     "metadata": {},
     "output_type": "execute_result"
    }
   ],
   "source": [
    "# recogemos con pausas de tiempo\n",
    "sim.setJointTargetPosition(j2, 0.022)\n",
    "time.sleep(3)\n",
    "setEffector(1)\n",
    "sim.setJointTargetPosition(j2, 0.2)\n",
    "time.sleep(3)\n",
    "sim.setJointTargetPosition(j2, 0.022)\n",
    "time.sleep(3)\n",
    "setEffector(0)\n",
    "sim.setJointTargetPosition(j2, 0.2)"
   ]
  },
  {
   "cell_type": "markdown",
   "id": "61e99d04",
   "metadata": {},
   "source": [
    "<h3>3. Movemos con control cartesiano </h3>"
   ]
  },
  {
   "cell_type": "code",
   "execution_count": 34,
   "id": "3b400d79",
   "metadata": {},
   "outputs": [
    {
     "data": {
      "text/plain": [
       "1"
      ]
     },
     "execution_count": 34,
     "metadata": {},
     "output_type": "execute_result"
    }
   ],
   "source": [
    "# 1. posicionamos el robot\n",
    "q1_inicial = 45 * 3.1416/180\n",
    "q2_inicial = 0.2\n",
    "q3_inicial = 45 * 3.1416/180\n",
    "\n",
    "sim.setJointTargetPosition(j1, q1_inicial)\n",
    "sim.setJointTargetPosition(j2, q2_inicial)\n",
    "sim.setJointTargetPosition(j3, q3_inicial)"
   ]
  },
  {
   "cell_type": "code",
   "execution_count": 38,
   "id": "e8b1f3bf",
   "metadata": {},
   "outputs": [
    {
     "name": "stdout",
     "output_type": "stream",
     "text": [
      "[0.7853999872111146, 0.19999951134718025, 0.7853880230346877]\n",
      "Matrix([[0.785400575285904], [0.199999511347180], [0.738438687697777]])\n"
     ]
    },
    {
     "data": {
      "text/plain": [
       "1"
      ]
     },
     "execution_count": 38,
     "metadata": {},
     "output_type": "execute_result"
    }
   ],
   "source": [
    "# leemos la posicón actual\n",
    "import sympy\n",
    "q1_actual = sim.getJointPosition(j1)\n",
    "q2_actual = sim.getJointPosition(j2)\n",
    "q3_actual = sim.getJointPosition(j3)\n",
    "q_actual = [q1_actual, q2_actual, q3_actual]\n",
    "print(q_actual)\n",
    "\n",
    "# definimos el vector de desplazamiento\n",
    "dx = 0.01\n",
    "dy = 0\n",
    "delta_x = [dx, dy, 0]\n",
    "\n",
    "# calculamos la nueva posición\n",
    "q_nuevo = sympy.Matrix(q_actual) + delta_q(q_actual, delta_x)\n",
    "print(q_nuevo)\n",
    "\n",
    "# enviamos al robot las nuevas posiciones\n",
    "sim.setJointTargetPosition(j1, float(q_nuevo[0]))\n",
    "sim.setJointTargetPosition(j2, float(q_nuevo[1]))\n",
    "sim.setJointTargetPosition(j3, float(q_nuevo[2]))"
   ]
  },
  {
   "cell_type": "code",
   "execution_count": 40,
   "id": "edbbe54f",
   "metadata": {},
   "outputs": [
    {
     "data": {
      "text/plain": [
       "1"
      ]
     },
     "execution_count": 40,
     "metadata": {},
     "output_type": "execute_result"
    }
   ],
   "source": [
    "# recogemos con pausas de tiempo\n",
    "sim.setJointTargetPosition(j2, 0.022)\n",
    "time.sleep(3)\n",
    "setEffector(1)\n",
    "sim.setJointTargetPosition(j2, 0.2)\n",
    "time.sleep(3)\n",
    "sim.setJointTargetPosition(j2, 0.022)\n",
    "time.sleep(3)\n",
    "setEffector(0)\n",
    "sim.setJointTargetPosition(j2, 0.2)"
   ]
  },
  {
   "cell_type": "code",
   "execution_count": 41,
   "id": "8d6ef8aa",
   "metadata": {},
   "outputs": [
    {
     "ename": "SerialException",
     "evalue": "could not open port 'COM3': FileNotFoundError(2, 'El sistema no puede encontrar el archivo especificado.', None, 2)",
     "output_type": "error",
     "traceback": [
      "\u001b[1;31m---------------------------------------------------------------------------\u001b[0m",
      "\u001b[1;31mSerialException\u001b[0m                           Traceback (most recent call last)",
      "\u001b[1;32m~\\AppData\\Local\\Temp\\ipykernel_12556\\1855318150.py\u001b[0m in \u001b[0;36m<module>\u001b[1;34m\u001b[0m\n\u001b[0;32m     18\u001b[0m \u001b[1;33m\u001b[0m\u001b[0m\n\u001b[0;32m     19\u001b[0m \u001b[1;31m# Conexión al puerto serial\u001b[0m\u001b[1;33m\u001b[0m\u001b[1;33m\u001b[0m\u001b[0m\n\u001b[1;32m---> 20\u001b[1;33m \u001b[0marduino\u001b[0m \u001b[1;33m=\u001b[0m \u001b[0mserial\u001b[0m\u001b[1;33m.\u001b[0m\u001b[0mSerial\u001b[0m\u001b[1;33m(\u001b[0m\u001b[0mserial_port\u001b[0m\u001b[1;33m,\u001b[0m \u001b[0mbaud_rate\u001b[0m\u001b[1;33m,\u001b[0m \u001b[0mtimeout\u001b[0m\u001b[1;33m=\u001b[0m\u001b[1;36m0.1\u001b[0m\u001b[1;33m)\u001b[0m\u001b[1;33m\u001b[0m\u001b[1;33m\u001b[0m\u001b[0m\n\u001b[0m\u001b[0;32m     21\u001b[0m \u001b[0mtime\u001b[0m\u001b[1;33m.\u001b[0m\u001b[0msleep\u001b[0m\u001b[1;33m(\u001b[0m\u001b[1;36m2\u001b[0m\u001b[1;33m)\u001b[0m  \u001b[1;31m# Esperar para establecer la conexión\u001b[0m\u001b[1;33m\u001b[0m\u001b[1;33m\u001b[0m\u001b[0m\n\u001b[0;32m     22\u001b[0m \u001b[1;33m\u001b[0m\u001b[0m\n",
      "\u001b[1;32m~\\AppData\\Roaming\\Python\\Python39\\site-packages\\serial\\serialwin32.py\u001b[0m in \u001b[0;36m__init__\u001b[1;34m(self, *args, **kwargs)\u001b[0m\n\u001b[0;32m     31\u001b[0m         \u001b[0mself\u001b[0m\u001b[1;33m.\u001b[0m\u001b[0m_overlapped_read\u001b[0m \u001b[1;33m=\u001b[0m \u001b[1;32mNone\u001b[0m\u001b[1;33m\u001b[0m\u001b[1;33m\u001b[0m\u001b[0m\n\u001b[0;32m     32\u001b[0m         \u001b[0mself\u001b[0m\u001b[1;33m.\u001b[0m\u001b[0m_overlapped_write\u001b[0m \u001b[1;33m=\u001b[0m \u001b[1;32mNone\u001b[0m\u001b[1;33m\u001b[0m\u001b[1;33m\u001b[0m\u001b[0m\n\u001b[1;32m---> 33\u001b[1;33m         \u001b[0msuper\u001b[0m\u001b[1;33m(\u001b[0m\u001b[0mSerial\u001b[0m\u001b[1;33m,\u001b[0m \u001b[0mself\u001b[0m\u001b[1;33m)\u001b[0m\u001b[1;33m.\u001b[0m\u001b[0m__init__\u001b[0m\u001b[1;33m(\u001b[0m\u001b[1;33m*\u001b[0m\u001b[0margs\u001b[0m\u001b[1;33m,\u001b[0m \u001b[1;33m**\u001b[0m\u001b[0mkwargs\u001b[0m\u001b[1;33m)\u001b[0m\u001b[1;33m\u001b[0m\u001b[1;33m\u001b[0m\u001b[0m\n\u001b[0m\u001b[0;32m     34\u001b[0m \u001b[1;33m\u001b[0m\u001b[0m\n\u001b[0;32m     35\u001b[0m     \u001b[1;32mdef\u001b[0m \u001b[0mopen\u001b[0m\u001b[1;33m(\u001b[0m\u001b[0mself\u001b[0m\u001b[1;33m)\u001b[0m\u001b[1;33m:\u001b[0m\u001b[1;33m\u001b[0m\u001b[1;33m\u001b[0m\u001b[0m\n",
      "\u001b[1;32m~\\AppData\\Roaming\\Python\\Python39\\site-packages\\serial\\serialutil.py\u001b[0m in \u001b[0;36m__init__\u001b[1;34m(self, port, baudrate, bytesize, parity, stopbits, timeout, xonxoff, rtscts, write_timeout, dsrdtr, inter_byte_timeout, exclusive, **kwargs)\u001b[0m\n\u001b[0;32m    242\u001b[0m \u001b[1;33m\u001b[0m\u001b[0m\n\u001b[0;32m    243\u001b[0m         \u001b[1;32mif\u001b[0m \u001b[0mport\u001b[0m \u001b[1;32mis\u001b[0m \u001b[1;32mnot\u001b[0m \u001b[1;32mNone\u001b[0m\u001b[1;33m:\u001b[0m\u001b[1;33m\u001b[0m\u001b[1;33m\u001b[0m\u001b[0m\n\u001b[1;32m--> 244\u001b[1;33m             \u001b[0mself\u001b[0m\u001b[1;33m.\u001b[0m\u001b[0mopen\u001b[0m\u001b[1;33m(\u001b[0m\u001b[1;33m)\u001b[0m\u001b[1;33m\u001b[0m\u001b[1;33m\u001b[0m\u001b[0m\n\u001b[0m\u001b[0;32m    245\u001b[0m \u001b[1;33m\u001b[0m\u001b[0m\n\u001b[0;32m    246\u001b[0m     \u001b[1;31m#  -  -  -  -  -  -  -  -  -  -  -  -  -  -  -  -  -  -  -  -  -  -  -  -\u001b[0m\u001b[1;33m\u001b[0m\u001b[1;33m\u001b[0m\u001b[0m\n",
      "\u001b[1;32m~\\AppData\\Roaming\\Python\\Python39\\site-packages\\serial\\serialwin32.py\u001b[0m in \u001b[0;36mopen\u001b[1;34m(self)\u001b[0m\n\u001b[0;32m     62\u001b[0m         \u001b[1;32mif\u001b[0m \u001b[0mself\u001b[0m\u001b[1;33m.\u001b[0m\u001b[0m_port_handle\u001b[0m \u001b[1;33m==\u001b[0m \u001b[0mwin32\u001b[0m\u001b[1;33m.\u001b[0m\u001b[0mINVALID_HANDLE_VALUE\u001b[0m\u001b[1;33m:\u001b[0m\u001b[1;33m\u001b[0m\u001b[1;33m\u001b[0m\u001b[0m\n\u001b[0;32m     63\u001b[0m             \u001b[0mself\u001b[0m\u001b[1;33m.\u001b[0m\u001b[0m_port_handle\u001b[0m \u001b[1;33m=\u001b[0m \u001b[1;32mNone\u001b[0m    \u001b[1;31m# 'cause __del__ is called anyway\u001b[0m\u001b[1;33m\u001b[0m\u001b[1;33m\u001b[0m\u001b[0m\n\u001b[1;32m---> 64\u001b[1;33m             \u001b[1;32mraise\u001b[0m \u001b[0mSerialException\u001b[0m\u001b[1;33m(\u001b[0m\u001b[1;34m\"could not open port {!r}: {!r}\"\u001b[0m\u001b[1;33m.\u001b[0m\u001b[0mformat\u001b[0m\u001b[1;33m(\u001b[0m\u001b[0mself\u001b[0m\u001b[1;33m.\u001b[0m\u001b[0mportstr\u001b[0m\u001b[1;33m,\u001b[0m \u001b[0mctypes\u001b[0m\u001b[1;33m.\u001b[0m\u001b[0mWinError\u001b[0m\u001b[1;33m(\u001b[0m\u001b[1;33m)\u001b[0m\u001b[1;33m)\u001b[0m\u001b[1;33m)\u001b[0m\u001b[1;33m\u001b[0m\u001b[1;33m\u001b[0m\u001b[0m\n\u001b[0m\u001b[0;32m     65\u001b[0m \u001b[1;33m\u001b[0m\u001b[0m\n\u001b[0;32m     66\u001b[0m         \u001b[1;32mtry\u001b[0m\u001b[1;33m:\u001b[0m\u001b[1;33m\u001b[0m\u001b[1;33m\u001b[0m\u001b[0m\n",
      "\u001b[1;31mSerialException\u001b[0m: could not open port 'COM3': FileNotFoundError(2, 'El sistema no puede encontrar el archivo especificado.', None, 2)"
     ]
    }
   ],
   "source": [
    "import time\n",
    "import serial\n",
    "import zmq\n",
    "import numpy as np\n",
    "\n",
    "# Configuración del puerto serial\n",
    "serial_port = 'COM3'  # Cambiar al puerto serial correcto\n",
    "baud_rate = 9600\n",
    "\n",
    "# Configuración de la comunicación con CoppeliaSim\n",
    "context = zmq.Context()\n",
    "socket = context.socket(zmq.REQ)\n",
    "socket.connect(\"tcp://localhost:5555\")  # Cambiar la dirección IP y el puerto según la configuración de CoppeliaSim\n",
    "\n",
    "# Configuración de las posiciones de las articulaciones\n",
    "posicion_articulacion_1 = 0.0\n",
    "posicion_articulacion_2 = 0.0\n",
    "\n",
    "# Conexión al puerto serial\n",
    "arduino = serial.Serial(serial_port, baud_rate, timeout=0.1)\n",
    "time.sleep(2)  # Esperar para establecer la conexión\n",
    "\n",
    "# Función para enviar comandos a CoppeliaSim\n",
    "def enviar_comando(comando):\n",
    "    socket.send_string(comando)\n",
    "    respuesta = socket.recv_string()\n",
    "    return respuesta\n",
    "\n",
    "# Función para procesar los datos recibidos desde el puerto serial\n",
    "def procesar_datos(datos):\n",
    "    # Separar los datos en coordenadas x, y y estado del botón\n",
    "    x, y, boton = datos.split(',')\n",
    "    x = float(x.split('=')[1])\n",
    "    y = float(y.split('=')[1])\n",
    "    boton = bool(int(boton.split('=')[1]))\n",
    "    \n",
    "    # Realizar el procesamiento necesario para controlar las posiciones de las articulaciones\n",
    "    \n",
    "    # Ejemplo: Calcular las posiciones de las articulaciones basadas en las coordenadas x e y\n",
    "    global posicion_articulacion_1, posicion_articulacion_2\n",
    "    posicion_articulacion_1 = x * 0.1  # Ejemplo de cálculo ficticio\n",
    "    posicion_articulacion_2 = y * 0.1  # Ejemplo de cálculo ficticio\n",
    "    \n",
    "    # Enviar las posiciones de las articulaciones a CoppeliaSim\n",
    "    comando_posicion_1 = f'set_joint_position(joint1, {posicion_articulacion_1})'\n",
    "    comando_posicion_2 = f'set_joint_position(joint2, {posicion_articulacion_2})'\n",
    "    enviar_comando(comando_posicion_1)\n",
    "    enviar_comando(comando_posicion_2)\n",
    "\n",
    "# Función para controlar el actuador de la ventosa\n",
    "def controlar_ventosa(accion):\n",
    "    comando_ventosa = f'set_ventosa({accion})'\n",
    "    enviar_comando(comando_ventosa)\n",
    "\n",
    "# Bucle principal\n",
    "while True:\n",
    "    try:\n",
    "        # Leer los datos desde el puerto serial\n",
    "        datos = arduino.readline().decode().strip()\n",
    "        \n",
    "        if datos:\n",
    "            # Procesar los datos recibidos\n",
    "            procesar_datos(datos)\n",
    "            \n",
    "            # Controlar el actuador de la ventosa según el estado del botón\n",
    "            if boton:\n",
    "                controlar_ventosa('agarrar')\n",
    "            else:\n",
    "                controlar_ventosa('soltar')\n",
    "        \n",
    "        # Esperar un breve período de tiempo antes de leer nuevamente los datos\n",
    "        time.sleep(0.1)\n",
    "        \n",
    "    except KeyboardInterrupt:\n",
    "        break\n",
    "\n",
    "# Cerrar la conexión con el puerto serial y detener la simulación en CoppeliaSim\n",
    "arduino.close()\n",
    "enviar_comando('simStopSimulation')\n"
   ]
  },
  {
   "cell_type": "code",
   "execution_count": null,
   "id": "66e427ea",
   "metadata": {},
   "outputs": [],
   "source": []
  },
  {
   "cell_type": "code",
   "execution_count": null,
   "id": "89ca1a00",
   "metadata": {},
   "outputs": [],
   "source": []
  }
 ],
 "metadata": {
  "kernelspec": {
   "display_name": "Python 3 (ipykernel)",
   "language": "python",
   "name": "python3"
  },
  "language_info": {
   "codemirror_mode": {
    "name": "ipython",
    "version": 3
   },
   "file_extension": ".py",
   "mimetype": "text/x-python",
   "name": "python",
   "nbconvert_exporter": "python",
   "pygments_lexer": "ipython3",
   "version": "3.9.13"
  }
 },
 "nbformat": 4,
 "nbformat_minor": 5
}
